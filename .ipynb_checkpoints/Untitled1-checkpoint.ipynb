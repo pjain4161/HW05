{
 "cells": [
  {
   "cell_type": "code",
   "execution_count": null,
   "metadata": {
    "collapsed": false
   },
   "outputs": [],
   "source": [
    "count = 0\n",
    "result = 0\n",
    "val = raw_input(\"Please enter a Number or 'done' \")\n",
    "    \n",
    "while(True):\n",
    "    if((val == \"done\") or (val == \"Done\") or (val == \"DONE\")) :\n",
    "        break\n",
    "    try:\n",
    "        num = eval(val)\n",
    "    except:\n",
    "        print \"Just enter a Number\"\n",
    "    else:\n",
    "        count += 1\n",
    "        result = result + num\n",
    "Average = result/count\n",
    "print \"Average = \" + str(Average)"
   ]
  },
  {
   "cell_type": "code",
   "execution_count": null,
   "metadata": {
    "collapsed": true
   },
   "outputs": [],
   "source": []
  },
  {
   "cell_type": "code",
   "execution_count": null,
   "metadata": {
    "collapsed": true
   },
   "outputs": [],
   "source": []
  }
 ],
 "metadata": {
  "kernelspec": {
   "display_name": "Python 2",
   "language": "python",
   "name": "python2"
  },
  "language_info": {
   "codemirror_mode": {
    "name": "ipython",
    "version": 2
   },
   "file_extension": ".py",
   "mimetype": "text/x-python",
   "name": "python",
   "nbconvert_exporter": "python",
   "pygments_lexer": "ipython2",
   "version": "2.7.9"
  }
 },
 "nbformat": 4,
 "nbformat_minor": 0
}
